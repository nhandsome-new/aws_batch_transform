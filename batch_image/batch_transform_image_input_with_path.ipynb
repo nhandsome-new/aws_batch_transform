{
 "cells": [
  {
   "cell_type": "code",
   "execution_count": 1,
   "id": "eb0c300b",
   "metadata": {},
   "outputs": [],
   "source": [
    "# 初期設定\n",
    "import torch\n",
    "import torch.nn as nn\n",
    "import torch.nn.functional as F\n",
    "from torch.utils.data import DataLoader\n",
    "from torchvision import datasets, transforms, models\n",
    "\n",
    "import os, boto3, json, sagemaker, numpy as np\n",
    "from sagemaker.pytorch import PyTorchModel\n",
    "from io import BytesIO\n",
    "\n",
    "def make_dir(path):\n",
    "    if os.path.isdir(path):\n",
    "        pass\n",
    "    else:\n",
    "        os.mkdir(path)\n",
    "\n",
    "sagemaker_session = sagemaker.Session()\n",
    "\n",
    "# AWS設定\n",
    "# role = 'han_s3_full_access'\n",
    "role = 'FullAccessHan'\n",
    "region = boto3.Session().region_name\n",
    "bucket='sagemaker-han'\n",
    "bucket='sagemaker-han-batch'\n",
    "prefix = 'batch-images'\n",
    "bucket_path = 'https://s3-{}.amazonaws.com/{}'.format(region,bucket)\n",
    "model_prefix = os.path.join(prefix, 'model')\n",
    "input_prefix = os.path.join(prefix, 'inputs')\n",
    "output_prefix = os.path.join(prefix, 'outputs')\n",
    "inference_prefix = os.path.join(prefix, 'inference')\n",
    "\n",
    "# Local設定\n",
    "base_dir = os.getcwd()\n",
    "data_dir = os.path.join(base_dir, 'data')\n",
    "model_dir = os.path.join(base_dir, 'model')\n",
    "input_dir = os.path.join(base_dir, 'inputs')\n",
    "output_dir = os.path.join(base_dir, 'outputs')\n",
    "inference_dir = os.path.join(base_dir, 'inference')\n",
    "source_dir = os.path.join(base_dir, 'src')\n",
    "for dir_name in [model_dir, input_dir, output_dir, source_dir, inference_dir]:\n",
    "    make_dir(dir_name)"
   ]
  },
  {
   "cell_type": "code",
   "execution_count": 66,
   "id": "f28de312",
   "metadata": {},
   "outputs": [
    {
     "name": "stdout",
     "output_type": "stream",
     "text": [
      "Files already downloaded and verified\n"
     ]
    }
   ],
   "source": [
    "# Sample 100 datas from CIFAR10 dataset\n",
    "\n",
    "from src.utils import create_init_sample_data, convert_np_to_png, image_to_bytes\n",
    "\n",
    "sampled_imgs = create_init_sample_data(data_dir, 100)\n",
    "convert_np_to_png(inference_dir, sampled_imgs)\n",
    "\n",
    "# Upload png images to S3\n",
    "inference_inputs = sagemaker_session.upload_data(\n",
    "    path=inference_dir, bucket=bucket, key_prefix=inference_prefix\n",
    ")\n"
   ]
  },
  {
   "cell_type": "code",
   "execution_count": null,
   "id": "8e753014",
   "metadata": {},
   "outputs": [],
   "source": [
    "import json\n",
    "from src.utils import create_init_sample_data, convert_np_to_png, image_to_bytes\n",
    "\n",
    "# sample N images and convert into png\n",
    "# save in inference_dir\n",
    "sampled_imgs = create_init_sample_data(data_dir, 100)\n",
    "convert_np_to_png(inference_dir, sampled_imgs)\n",
    "\n",
    "with open('sample.jsonl', mode='w') as f:\n",
    "    _dict = {}\n",
    "    for inf_file in os.listdir(inference_dir):\n",
    "        _dict[\"img_path\"] = os.path.join(inference_inputs, inf_file)\n",
    "        json.dump(_dict, f)\n",
    "        f.write('\\n')\n",
    "\n",
    "\n",
    "\n",
    "sampled_imgs = create_init_sample_data(data_dir, 100)\n",
    "\n",
    "f_inference = sagemaker_session.upload_data(path='sample.jsonl', bucket=bucket, key_prefix='batch-images/f_inference')\n",
    "f_inference = sagemaker_session.upload_data(path='sample2.jsonl', bucket=bucket, key_prefix='batch-images/f_inference')"
   ]
  },
  {
   "cell_type": "code",
   "execution_count": 4,
   "id": "6e6c0bed",
   "metadata": {},
   "outputs": [
    {
     "name": "stdout",
     "output_type": "stream",
     "text": [
      "Files already downloaded and verified\n",
      "Files already downloaded and verified\n"
     ]
    }
   ],
   "source": [
    "# Prepare dataset for the model training\n",
    "\n",
    "transform = transforms.Compose([\n",
    "    transforms.ToTensor(),\n",
    "    transforms.Normalize([0.5, 0.5, 0.5], [0.5, 0.5, 0.5]),\n",
    "])\n",
    "\n",
    "train_data = datasets.CIFAR10(root=data_dir, train=True, download=True, transform=transform)\n",
    "test_data = datasets.CIFAR10(root=data_dir, train=False, download=True, transform=transform)\n",
    "\n",
    "training_data_loader = DataLoader(train_data, batch_size=len(train_data))\n",
    "training_data_loaded = next(iter(training_data_loader))\n",
    "torch.save(training_data_loaded, os.path.join(input_dir, 'training.pt'))\n",
    "\n",
    "test_data_loader = DataLoader(test_data, batch_size=len(test_data))\n",
    "test_data_loaded = next(iter(test_data_loader))\n",
    "torch.save(test_data_loaded, os.path.join(output_dir, 'test.pt'))\n",
    "\n",
    "inputs = sagemaker_session.upload_data(path=input_dir, bucket=bucket, key_prefix=input_prefix)\n",
    "outputs = sagemaker_session.upload_data(path=output_dir, bucket=bucket, key_prefix=output_prefix)"
   ]
  },
  {
   "cell_type": "code",
   "execution_count": 38,
   "id": "59fbaf1b",
   "metadata": {},
   "outputs": [],
   "source": [
    "inference_inputs= f's3://{bucket}/batch-images/inference'\n",
    "inputs= f's3://{bucket}/batch-images/inputs'\n",
    "outputs= f's3://{bucket}/batch-images/outputs'"
   ]
  },
  {
   "cell_type": "code",
   "execution_count": 6,
   "id": "5274c069",
   "metadata": {},
   "outputs": [
    {
     "name": "stdout",
     "output_type": "stream",
     "text": [
      "2022-08-22 13:51:32 Starting - Starting the training job...\n",
      "2022-08-22 13:51:59 Starting - Preparing the instances for trainingProfilerReport-1661176290: InProgress\n",
      ".........\n",
      "2022-08-22 13:53:33 Downloading - Downloading input data...\n",
      "2022-08-22 13:54:13 Training - Downloading the training image......\n",
      "2022-08-22 13:55:14 Training - Training image download completed. Training in progress..\u001b[34mbash: cannot set terminal process group (-1): Inappropriate ioctl for device\u001b[0m\n",
      "\u001b[34mbash: no job control in this shell\u001b[0m\n",
      "\u001b[34m2022-08-22 13:55:15,163 sagemaker-training-toolkit INFO     Imported framework sagemaker_pytorch_container.training\u001b[0m\n",
      "\u001b[34m2022-08-22 13:55:15,165 sagemaker-training-toolkit INFO     No GPUs detected (normal if no gpus installed)\u001b[0m\n",
      "\u001b[34m2022-08-22 13:55:15,175 sagemaker_pytorch_container.training INFO     Block until all host DNS lookups succeed.\u001b[0m\n",
      "\u001b[34m2022-08-22 13:55:15,186 sagemaker_pytorch_container.training INFO     Invoking user training script.\u001b[0m\n",
      "\u001b[34m2022-08-22 13:55:15,860 sagemaker-training-toolkit INFO     No GPUs detected (normal if no gpus installed)\u001b[0m\n",
      "\u001b[34m2022-08-22 13:55:15,881 sagemaker-training-toolkit INFO     No GPUs detected (normal if no gpus installed)\u001b[0m\n",
      "\u001b[34m2022-08-22 13:55:15,899 sagemaker-training-toolkit INFO     No GPUs detected (normal if no gpus installed)\u001b[0m\n",
      "\u001b[34m2022-08-22 13:55:15,916 sagemaker-training-toolkit INFO     Invoking user script\u001b[0m\n",
      "\u001b[34mTraining Env:\u001b[0m\n",
      "\u001b[34m{\n",
      "    \"additional_framework_parameters\": {},\n",
      "    \"channel_input_dirs\": {\n",
      "        \"training\": \"/opt/ml/input/data/training\"\n",
      "    },\n",
      "    \"current_host\": \"algo-1\",\n",
      "    \"current_instance_group\": \"homogeneousCluster\",\n",
      "    \"current_instance_group_hosts\": [\n",
      "        \"algo-1\"\n",
      "    ],\n",
      "    \"current_instance_type\": \"ml.m4.xlarge\",\n",
      "    \"distribution_hosts\": [],\n",
      "    \"distribution_instance_groups\": [],\n",
      "    \"framework_module\": \"sagemaker_pytorch_container.training:main\",\n",
      "    \"hosts\": [\n",
      "        \"algo-1\"\n",
      "    ],\n",
      "    \"hyperparameters\": {\n",
      "        \"batch-size\": 128,\n",
      "        \"epochs\": 1,\n",
      "        \"lr\": 0.01\n",
      "    },\n",
      "    \"input_config_dir\": \"/opt/ml/input/config\",\n",
      "    \"input_data_config\": {\n",
      "        \"training\": {\n",
      "            \"TrainingInputMode\": \"File\",\n",
      "            \"S3DistributionType\": \"FullyReplicated\",\n",
      "            \"RecordWrapperType\": \"None\"\n",
      "        }\n",
      "    },\n",
      "    \"input_dir\": \"/opt/ml/input\",\n",
      "    \"instance_groups\": [\n",
      "        \"homogeneousCluster\"\n",
      "    ],\n",
      "    \"instance_groups_dict\": {\n",
      "        \"homogeneousCluster\": {\n",
      "            \"instance_group_name\": \"homogeneousCluster\",\n",
      "            \"instance_type\": \"ml.m4.xlarge\",\n",
      "            \"hosts\": [\n",
      "                \"algo-1\"\n",
      "            ]\n",
      "        }\n",
      "    },\n",
      "    \"is_hetero\": false,\n",
      "    \"is_master\": true,\n",
      "    \"is_modelparallel_enabled\": null,\n",
      "    \"job_name\": \"pytorch-training-2022-08-22-13-51-28-555\",\n",
      "    \"log_level\": 20,\n",
      "    \"master_hostname\": \"algo-1\",\n",
      "    \"model_dir\": \"/opt/ml/model\",\n",
      "    \"module_dir\": \"s3://sagemaker-us-west-2-608095525235/pytorch-training-2022-08-22-13-51-28-555/source/sourcedir.tar.gz\",\n",
      "    \"module_name\": \"resnet\",\n",
      "    \"network_interface_name\": \"eth0\",\n",
      "    \"num_cpus\": 4,\n",
      "    \"num_gpus\": 0,\n",
      "    \"output_data_dir\": \"/opt/ml/output/data\",\n",
      "    \"output_dir\": \"/opt/ml/output\",\n",
      "    \"output_intermediate_dir\": \"/opt/ml/output/intermediate\",\n",
      "    \"resource_config\": {\n",
      "        \"current_host\": \"algo-1\",\n",
      "        \"current_instance_type\": \"ml.m4.xlarge\",\n",
      "        \"current_group_name\": \"homogeneousCluster\",\n",
      "        \"hosts\": [\n",
      "            \"algo-1\"\n",
      "        ],\n",
      "        \"instance_groups\": [\n",
      "            {\n",
      "                \"instance_group_name\": \"homogeneousCluster\",\n",
      "                \"instance_type\": \"ml.m4.xlarge\",\n",
      "                \"hosts\": [\n",
      "                    \"algo-1\"\n",
      "                ]\n",
      "            }\n",
      "        ],\n",
      "        \"network_interface_name\": \"eth0\"\n",
      "    },\n",
      "    \"user_entry_point\": \"resnet.py\"\u001b[0m\n",
      "\u001b[34m}\u001b[0m\n",
      "\u001b[34mEnvironment variables:\u001b[0m\n",
      "\u001b[34mSM_HOSTS=[\"algo-1\"]\u001b[0m\n",
      "\u001b[34mSM_NETWORK_INTERFACE_NAME=eth0\u001b[0m\n",
      "\u001b[34mSM_HPS={\"batch-size\":128,\"epochs\":1,\"lr\":0.01}\u001b[0m\n",
      "\u001b[34mSM_USER_ENTRY_POINT=resnet.py\u001b[0m\n",
      "\u001b[34mSM_FRAMEWORK_PARAMS={}\u001b[0m\n",
      "\u001b[34mSM_RESOURCE_CONFIG={\"current_group_name\":\"homogeneousCluster\",\"current_host\":\"algo-1\",\"current_instance_type\":\"ml.m4.xlarge\",\"hosts\":[\"algo-1\"],\"instance_groups\":[{\"hosts\":[\"algo-1\"],\"instance_group_name\":\"homogeneousCluster\",\"instance_type\":\"ml.m4.xlarge\"}],\"network_interface_name\":\"eth0\"}\u001b[0m\n",
      "\u001b[34mSM_INPUT_DATA_CONFIG={\"training\":{\"RecordWrapperType\":\"None\",\"S3DistributionType\":\"FullyReplicated\",\"TrainingInputMode\":\"File\"}}\u001b[0m\n",
      "\u001b[34mSM_OUTPUT_DATA_DIR=/opt/ml/output/data\u001b[0m\n",
      "\u001b[34mSM_CHANNELS=[\"training\"]\u001b[0m\n",
      "\u001b[34mSM_CURRENT_HOST=algo-1\u001b[0m\n",
      "\u001b[34mSM_CURRENT_INSTANCE_TYPE=ml.m4.xlarge\u001b[0m\n",
      "\u001b[34mSM_CURRENT_INSTANCE_GROUP=homogeneousCluster\u001b[0m\n",
      "\u001b[34mSM_CURRENT_INSTANCE_GROUP_HOSTS=[\"algo-1\"]\u001b[0m\n",
      "\u001b[34mSM_INSTANCE_GROUPS=[\"homogeneousCluster\"]\u001b[0m\n",
      "\u001b[34mSM_INSTANCE_GROUPS_DICT={\"homogeneousCluster\":{\"hosts\":[\"algo-1\"],\"instance_group_name\":\"homogeneousCluster\",\"instance_type\":\"ml.m4.xlarge\"}}\u001b[0m\n",
      "\u001b[34mSM_DISTRIBUTION_INSTANCE_GROUPS=[]\u001b[0m\n",
      "\u001b[34mSM_IS_HETERO=false\u001b[0m\n",
      "\u001b[34mSM_MODULE_NAME=resnet\u001b[0m\n",
      "\u001b[34mSM_LOG_LEVEL=20\u001b[0m\n",
      "\u001b[34mSM_FRAMEWORK_MODULE=sagemaker_pytorch_container.training:main\u001b[0m\n",
      "\u001b[34mSM_INPUT_DIR=/opt/ml/input\u001b[0m\n",
      "\u001b[34mSM_INPUT_CONFIG_DIR=/opt/ml/input/config\u001b[0m\n",
      "\u001b[34mSM_OUTPUT_DIR=/opt/ml/output\u001b[0m\n",
      "\u001b[34mSM_NUM_CPUS=4\u001b[0m\n",
      "\u001b[34mSM_NUM_GPUS=0\u001b[0m\n",
      "\u001b[34mSM_MODEL_DIR=/opt/ml/model\u001b[0m\n",
      "\u001b[34mSM_MODULE_DIR=s3://sagemaker-us-west-2-608095525235/pytorch-training-2022-08-22-13-51-28-555/source/sourcedir.tar.gz\u001b[0m\n",
      "\u001b[34mSM_TRAINING_ENV={\"additional_framework_parameters\":{},\"channel_input_dirs\":{\"training\":\"/opt/ml/input/data/training\"},\"current_host\":\"algo-1\",\"current_instance_group\":\"homogeneousCluster\",\"current_instance_group_hosts\":[\"algo-1\"],\"current_instance_type\":\"ml.m4.xlarge\",\"distribution_hosts\":[],\"distribution_instance_groups\":[],\"framework_module\":\"sagemaker_pytorch_container.training:main\",\"hosts\":[\"algo-1\"],\"hyperparameters\":{\"batch-size\":128,\"epochs\":1,\"lr\":0.01},\"input_config_dir\":\"/opt/ml/input/config\",\"input_data_config\":{\"training\":{\"RecordWrapperType\":\"None\",\"S3DistributionType\":\"FullyReplicated\",\"TrainingInputMode\":\"File\"}},\"input_dir\":\"/opt/ml/input\",\"instance_groups\":[\"homogeneousCluster\"],\"instance_groups_dict\":{\"homogeneousCluster\":{\"hosts\":[\"algo-1\"],\"instance_group_name\":\"homogeneousCluster\",\"instance_type\":\"ml.m4.xlarge\"}},\"is_hetero\":false,\"is_master\":true,\"is_modelparallel_enabled\":null,\"job_name\":\"pytorch-training-2022-08-22-13-51-28-555\",\"log_level\":20,\"master_hostname\":\"algo-1\",\"model_dir\":\"/opt/ml/model\",\"module_dir\":\"s3://sagemaker-us-west-2-608095525235/pytorch-training-2022-08-22-13-51-28-555/source/sourcedir.tar.gz\",\"module_name\":\"resnet\",\"network_interface_name\":\"eth0\",\"num_cpus\":4,\"num_gpus\":0,\"output_data_dir\":\"/opt/ml/output/data\",\"output_dir\":\"/opt/ml/output\",\"output_intermediate_dir\":\"/opt/ml/output/intermediate\",\"resource_config\":{\"current_group_name\":\"homogeneousCluster\",\"current_host\":\"algo-1\",\"current_instance_type\":\"ml.m4.xlarge\",\"hosts\":[\"algo-1\"],\"instance_groups\":[{\"hosts\":[\"algo-1\"],\"instance_group_name\":\"homogeneousCluster\",\"instance_type\":\"ml.m4.xlarge\"}],\"network_interface_name\":\"eth0\"},\"user_entry_point\":\"resnet.py\"}\u001b[0m\n",
      "\u001b[34mSM_USER_ARGS=[\"--batch-size\",\"128\",\"--epochs\",\"1\",\"--lr\",\"0.01\"]\u001b[0m\n",
      "\u001b[34mSM_OUTPUT_INTERMEDIATE_DIR=/opt/ml/output/intermediate\u001b[0m\n",
      "\u001b[34mSM_CHANNEL_TRAINING=/opt/ml/input/data/training\u001b[0m\n",
      "\u001b[34mSM_HP_BATCH-SIZE=128\u001b[0m\n",
      "\u001b[34mSM_HP_EPOCHS=1\u001b[0m\n",
      "\u001b[34mSM_HP_LR=0.01\u001b[0m\n",
      "\u001b[34mPYTHONPATH=/opt/ml/code:/opt/conda/bin:/opt/conda/lib/python38.zip:/opt/conda/lib/python3.8:/opt/conda/lib/python3.8/lib-dynload:/opt/conda/lib/python3.8/site-packages:/opt/conda/lib/python3.8/site-packages/smdebug-1.0.19b20220816-py3.8.egg:/opt/conda/lib/python3.8/site-packages/pyinstrument-3.4.2-py3.8.egg:/opt/conda/lib/python3.8/site-packages/pyinstrument_cext-0.2.4-py3.8-linux-x86_64.egg\u001b[0m\n",
      "\u001b[34mInvoking script with the following command:\u001b[0m\n",
      "\u001b[34m/opt/conda/bin/python3.8 resnet.py --batch-size 128 --epochs 1 --lr 0.01\u001b[0m\n",
      "\u001b[34m[2022-08-22 13:55:18.880 algo-1:27 INFO utils.py:27] RULE_JOB_STOP_SIGNAL_FILENAME: None\u001b[0m\n",
      "\u001b[34m/opt/conda/lib/python3.8/site-packages/smdebug-1.0.19b20220816-py3.8.egg/smdebug/profiler/system_metrics_reader.py:63: SyntaxWarning: \"is not\" with a literal. Did you mean \"!=\"?\u001b[0m\n",
      "\u001b[34m/opt/conda/lib/python3.8/site-packages/smdebug-1.0.19b20220816-py3.8.egg/smdebug/profiler/system_metrics_reader.py:63: SyntaxWarning: \"is not\" with a literal. Did you mean \"!=\"?\u001b[0m\n",
      "\u001b[34m[2022-08-22 13:55:19.587 algo-1:27 INFO profiler_config_parser.py:111] User has disabled profiler.\u001b[0m\n",
      "\u001b[34m[2022-08-22 13:55:19.590 algo-1:27 INFO json_config.py:91] Creating hook from json_config at /opt/ml/input/config/debughookconfig.json.\u001b[0m\n",
      "\u001b[34m[2022-08-22 13:55:19.590 algo-1:27 INFO hook.py:201] tensorboard_dir has not been set for the hook. SMDebug will not be exporting tensorboard summaries.\u001b[0m\n",
      "\u001b[34m[2022-08-22 13:55:19.591 algo-1:27 INFO hook.py:254] Saving to /opt/ml/output/tensors\u001b[0m\n",
      "\u001b[34m[2022-08-22 13:55:19.591 algo-1:27 INFO state_store.py:77] The checkpoint config file /opt/ml/input/config/checkpointconfig.json does not exist.\u001b[0m\n",
      "\u001b[34mINFO:__main__:Train Epoch: 1 [12800/50000 (26%)] Loss: -15.599797\u001b[0m\n",
      "\u001b[34mINFO:__main__:Train Epoch: 1 [25600/50000 (51%)] Loss: -75.351624\u001b[0m\n",
      "\u001b[34mINFO:__main__:Train Epoch: 1 [38400/50000 (77%)] Loss: -376.315094\u001b[0m\n",
      "\u001b[34mINFO:__main__:Saving the model.\u001b[0m\n",
      "\u001b[34m2022-08-22 14:00:37,306 sagemaker-training-toolkit INFO     Waiting for the process to finish and give a return code.\u001b[0m\n",
      "\u001b[34m2022-08-22 14:00:37,306 sagemaker-training-toolkit INFO     Done waiting for a return code. Received 0 from exiting process.\u001b[0m\n",
      "\u001b[34m2022-08-22 14:00:37,307 sagemaker-training-toolkit INFO     Reporting training SUCCESS\u001b[0m\n",
      "\n",
      "2022-08-22 14:01:35 Uploading - Uploading generated training model\n",
      "2022-08-22 14:01:35 Completed - Training job completed\n",
      "ProfilerReport-1661176290: NoIssuesFound\n",
      "Training seconds: 489\n",
      "Billable seconds: 489\n"
     ]
    }
   ],
   "source": [
    "# Create Training Container\n",
    "from sagemaker.pytorch import PyTorch\n",
    "\n",
    "estimator = PyTorch(entry_point=\"resnet.py\",\n",
    "                    role=role,\n",
    "                    source_dir = \"src\",\n",
    "                    framework_version='1.12.0',\n",
    "                    py_version='py38',\n",
    "                    instance_count=1,\n",
    "                    instance_type='ml.m4.xlarge',\n",
    "                    hyperparameters={\n",
    "                        'batch-size':128,\n",
    "                        'lr': 0.01,\n",
    "                        'epochs': 1,\n",
    "                    })\n",
    "\n",
    "estimator.fit({'training': inputs})"
   ]
  },
  {
   "cell_type": "code",
   "execution_count": 7,
   "id": "1344bb0d",
   "metadata": {},
   "outputs": [
    {
     "name": "stdout",
     "output_type": "stream",
     "text": [
      "--------!"
     ]
    }
   ],
   "source": [
    "cifar10_predictor = estimator.deploy(\n",
    "    initial_instance_count=1, \n",
    "    instance_type='ml.m4.xlarge'\n",
    ")"
   ]
  },
  {
   "cell_type": "code",
   "execution_count": 8,
   "id": "c5e52ff2",
   "metadata": {},
   "outputs": [
    {
     "name": "stdout",
     "output_type": "stream",
     "text": [
      "torch.Size([1, 3, 32, 32])\n",
      "(1, 10)\n"
     ]
    }
   ],
   "source": [
    "test_input = torch.rand(1,3,32,32)\n",
    "test_output = cifar10_predictor.predict(test_input)\n",
    "print(test_input.shape)\n",
    "print(test_output.shape)"
   ]
  },
  {
   "cell_type": "code",
   "execution_count": 15,
   "id": "6325866f",
   "metadata": {},
   "outputs": [],
   "source": []
  },
  {
   "cell_type": "code",
   "execution_count": 41,
   "id": "eb925323",
   "metadata": {},
   "outputs": [],
   "source": [
    "\n",
    "from sagemaker.pytorch.model import PyTorchModel\n",
    "\n",
    "# home\n",
    "model_path = 's3://sagemaker-us-west-2-608095525235/pytorch-training-2022-08-22-14-02-01-637/model.tar.gz'\n",
    "# fusic\n",
    "# model_path = 's3://sagemaker-us-west-2-582981179587/pytorch-training-2022-08-22-11-21-23-382/model.tar.gz'\n",
    "\n",
    "pytorch_model = PyTorchModel(model_data = model_path,\n",
    "                             entry_point='resnet_batch_transform.py',\n",
    "                             source_dir = 'src',\n",
    "                             framework_version='1.12.0',\n",
    "                             py_version='py38',\n",
    "                             role = role)"
   ]
  },
  {
   "cell_type": "code",
   "execution_count": 90,
   "id": "6e1ab917",
   "metadata": {},
   "outputs": [],
   "source": [
    "max_concurrent_transforms = 1\n",
    "max_payload = 1\n",
    "strategy='SingleRecord'\n",
    "split_type=None\n",
    "model_name = 'pytorch-inference-2022-08-23-11-44-10-894'\n",
    "\n",
    "output_s3_path = 's3://{}/batch-images/outputs/bt_real_{}_{}_{}_{}'.format(bucket, max_concurrent_transforms,max_payload,strategy,split_type)\n",
    "# f_inference = f's3://{bucket}/batch-images/f_inference'\n",
    "# transformer.transform(\n",
    "#     data=f_inference,\n",
    "#     data_type=\"S3Prefix\",\n",
    "#     content_type=\"application/jsonlines\",\n",
    "#     wait=True,\n",
    "#     split_type=split_type\n",
    "# )\n",
    "\n",
    "\n",
    "sagemaker_client = boto3.client('sagemaker')\n",
    "response = sagemaker_client.create_transform_job(\n",
    "    TransformJobName='BatchTransformHanNew',\n",
    "    ModelName=model_name,\n",
    "    MaxConcurrentTransforms=max_concurrent_transforms,\n",
    "    MaxPayloadInMB=max_payload,\n",
    "    BatchStrategy=strategy,\n",
    "    TransformInput={\n",
    "        'DataSource': {\n",
    "            'S3DataSource': {\n",
    "                'S3DataType': 'S3Prefix',\n",
    "                'S3Uri': f_inference\n",
    "            }\n",
    "        },\n",
    "        'ContentType': 'application/jsonlines',\n",
    "        'CompressionType': 'None',\n",
    "        'SplitType': 'Line'\n",
    "    },\n",
    "    TransformOutput={\n",
    "        'S3OutputPath': output_s3_path,\n",
    "        'Accept': 'string',\n",
    "        'AssembleWith': 'None',\n",
    "    },\n",
    "    TransformResources={\n",
    "        'InstanceType': 'ml.m5.xlarge',\n",
    "        'InstanceCount': 1,\n",
    "    }\n",
    ")\n",
    "\n",
    "# transform_job = sagemaker.transformer.Transformer(\n",
    "#     model_name = y_xgboost_21,\n",
    "#     instance_count = 1,\n",
    "#     instance_type = 'ml.m5.large',\n",
    "#     strategy = 'SingleRecord',\n",
    "#     assemble_with = 'Line',\n",
    "#     output_path = output_data_path,\n",
    "#     base_transform_job_name='y-test-batch',\n",
    "#     sagemaker_session=sagemaker.Session(),\n",
    "#     accept = 'text/csv')"
   ]
  },
  {
   "cell_type": "code",
   "execution_count": 42,
   "id": "ea2048d9",
   "metadata": {},
   "outputs": [],
   "source": [
    "max_concurrent_transforms = 1\n",
    "max_payload = 1\n",
    "strategy='SingleRecord'\n",
    "split_type=None\n",
    "# strategy='MultiRecord'\n",
    "# split_type='Line'\n",
    "\n",
    "output_s3_path = 's3://{}/batch-images/outputs/bt_real_{}_{}_{}_{}'.format(bucket, max_concurrent_transforms,max_payload,strategy,split_type)\n",
    "\n",
    "transformer = pytorch_model.transformer(instance_count=1,\n",
    "                              instance_type=\"ml.m5.xlarge\",\n",
    "                              max_concurrent_transforms=max_concurrent_transforms,\n",
    "                              max_payload=max_payload,  # 1MB\n",
    "                              strategy=strategy,\n",
    "                              output_path=output_s3_path)\n",
    "\n",
    "f_inference = f's3://{bucket}/batch-images/f_inference'\n"
   ]
  },
  {
   "cell_type": "code",
   "execution_count": 50,
   "id": "8955e753",
   "metadata": {},
   "outputs": [
    {
     "data": {
      "text/plain": [
       "'608095525235'"
      ]
     },
     "execution_count": 50,
     "metadata": {},
     "output_type": "execute_result"
    }
   ],
   "source": [
    "sagemaker_session.account_id()"
   ]
  },
  {
   "cell_type": "code",
   "execution_count": 51,
   "id": "61ff8c2d",
   "metadata": {},
   "outputs": [
    {
     "data": {
      "text/plain": [
       "'608095525235'"
      ]
     },
     "execution_count": 51,
     "metadata": {},
     "output_type": "execute_result"
    }
   ],
   "source": [
    "transformer.sagemaker_session.account_id()"
   ]
  },
  {
   "cell_type": "code",
   "execution_count": 43,
   "id": "a14655a7",
   "metadata": {},
   "outputs": [
    {
     "ename": "TypeError",
     "evalue": "transform() got an unexpected keyword argument 'sagemaker_session'",
     "output_type": "error",
     "traceback": [
      "\u001b[0;31m---------------------------------------------------------------------------\u001b[0m",
      "\u001b[0;31mTypeError\u001b[0m                                 Traceback (most recent call last)",
      "\u001b[1;32m/Users/han/Desktop/Nhandsome/fusic/2022/batch_transform/batch_image/batch_transform_image_input.ipynb Cell 14'\u001b[0m in \u001b[0;36m<cell line: 2>\u001b[0;34m()\u001b[0m\n\u001b[1;32m      <a href='vscode-notebook-cell:/Users/han/Desktop/Nhandsome/fusic/2022/batch_transform/batch_image/batch_transform_image_input.ipynb#ch0000013?line=0'>1</a>\u001b[0m f_inference \u001b[39m=\u001b[39m \u001b[39mf\u001b[39m\u001b[39m'\u001b[39m\u001b[39ms3://\u001b[39m\u001b[39m{\u001b[39;00mbucket\u001b[39m}\u001b[39;00m\u001b[39m/batch-images/f_inference\u001b[39m\u001b[39m'\u001b[39m\n\u001b[0;32m----> <a href='vscode-notebook-cell:/Users/han/Desktop/Nhandsome/fusic/2022/batch_transform/batch_image/batch_transform_image_input.ipynb#ch0000013?line=1'>2</a>\u001b[0m transformer\u001b[39m.\u001b[39;49mtransform(\n\u001b[1;32m      <a href='vscode-notebook-cell:/Users/han/Desktop/Nhandsome/fusic/2022/batch_transform/batch_image/batch_transform_image_input.ipynb#ch0000013?line=2'>3</a>\u001b[0m     data\u001b[39m=\u001b[39;49mf_inference,\n\u001b[1;32m      <a href='vscode-notebook-cell:/Users/han/Desktop/Nhandsome/fusic/2022/batch_transform/batch_image/batch_transform_image_input.ipynb#ch0000013?line=3'>4</a>\u001b[0m     data_type\u001b[39m=\u001b[39;49m\u001b[39m\"\u001b[39;49m\u001b[39mS3Prefix\u001b[39;49m\u001b[39m\"\u001b[39;49m,\n\u001b[1;32m      <a href='vscode-notebook-cell:/Users/han/Desktop/Nhandsome/fusic/2022/batch_transform/batch_image/batch_transform_image_input.ipynb#ch0000013?line=4'>5</a>\u001b[0m     content_type\u001b[39m=\u001b[39;49m\u001b[39m\"\u001b[39;49m\u001b[39mapplication/jsonlines\u001b[39;49m\u001b[39m\"\u001b[39;49m,\n\u001b[1;32m      <a href='vscode-notebook-cell:/Users/han/Desktop/Nhandsome/fusic/2022/batch_transform/batch_image/batch_transform_image_input.ipynb#ch0000013?line=5'>6</a>\u001b[0m     wait\u001b[39m=\u001b[39;49m\u001b[39mTrue\u001b[39;49;00m,\n\u001b[1;32m      <a href='vscode-notebook-cell:/Users/han/Desktop/Nhandsome/fusic/2022/batch_transform/batch_image/batch_transform_image_input.ipynb#ch0000013?line=6'>7</a>\u001b[0m     split_type\u001b[39m=\u001b[39;49msplit_type,\n\u001b[1;32m      <a href='vscode-notebook-cell:/Users/han/Desktop/Nhandsome/fusic/2022/batch_transform/batch_image/batch_transform_image_input.ipynb#ch0000013?line=7'>8</a>\u001b[0m     sagemaker_session\u001b[39m=\u001b[39;49msagemaker_session\n\u001b[1;32m      <a href='vscode-notebook-cell:/Users/han/Desktop/Nhandsome/fusic/2022/batch_transform/batch_image/batch_transform_image_input.ipynb#ch0000013?line=8'>9</a>\u001b[0m )\n",
      "File \u001b[0;32m~/.local/share/virtualenvs/batch_transform-aeIkgUX-/lib/python3.9/site-packages/sagemaker/workflow/pipeline_context.py:248\u001b[0m, in \u001b[0;36mrunnable_by_pipeline.<locals>.wrapper\u001b[0;34m(*args, **kwargs)\u001b[0m\n\u001b[1;32m    <a href='file:///Users/han/.local/share/virtualenvs/batch_transform-aeIkgUX-/lib/python3.9/site-packages/sagemaker/workflow/pipeline_context.py?line=244'>245</a>\u001b[0m     run_func(\u001b[39m*\u001b[39margs, \u001b[39m*\u001b[39m\u001b[39m*\u001b[39mkwargs)\n\u001b[1;32m    <a href='file:///Users/han/.local/share/virtualenvs/batch_transform-aeIkgUX-/lib/python3.9/site-packages/sagemaker/workflow/pipeline_context.py?line=245'>246</a>\u001b[0m     \u001b[39mreturn\u001b[39;00m self_instance\u001b[39m.\u001b[39msagemaker_session\u001b[39m.\u001b[39mcontext\n\u001b[0;32m--> <a href='file:///Users/han/.local/share/virtualenvs/batch_transform-aeIkgUX-/lib/python3.9/site-packages/sagemaker/workflow/pipeline_context.py?line=247'>248</a>\u001b[0m \u001b[39mreturn\u001b[39;00m run_func(\u001b[39m*\u001b[39;49margs, \u001b[39m*\u001b[39;49m\u001b[39m*\u001b[39;49mkwargs)\n",
      "\u001b[0;31mTypeError\u001b[0m: transform() got an unexpected keyword argument 'sagemaker_session'"
     ]
    }
   ],
   "source": [
    "\n",
    "f_inference = f's3://{bucket}/batch-images/f_inference'\n",
    "transformer.transform(\n",
    "    data=f_inference,\n",
    "    data_type=\"S3Prefix\",\n",
    "    content_type=\"application/jsonlines\",\n",
    "    wait=True,\n",
    "    split_type=split_type,\n",
    "    sagemaker_session=sagemaker_session\n",
    ")\n",
    "\n",
    "\n",
    "# transformer = pytorch_model.transformer(instance_count=4,\n",
    "#                               instance_type=\"ml.p2.xlarge\",\n",
    "#                               max_concurrent_transforms=2,\n",
    "#                               max_payload=1,  # 1MB\n",
    "#                               strategy='MultiRecord',\n",
    "#                               env={'INFERENCE_PREFERRED_MODE': 'classification'},  # only useful with GPU\n",
    "#                               output_path=output_s3_path)\n",
    "\n",
    "# {\"in0\": [6, 17, 606, 19, 53, 67, 52, 12, 5, 10, 15, 10178, 7, 33, 652, 80, 15, 69, 821, 4], \"in1\": [16, 21, 13, 45, 14, 9, 80, 59, 164, 4]}\n",
    "# {\"in0\": [22, 1016, 32, 13, 25, 11, 5, 64, 573, 45, 5, 80, 15, 67, 21, 7, 9, 107, 4], \"in1\": [22, 32, 13, 25, 1016, 573, 3252, 4]}\n",
    "# {\"in0\": [774, 14, 21, 206], \"in1\": [21, 366, 125]}\n",
    "\n",
    "# {\"scores\":[0.195667684078216,0.395351558923721,0.408980727195739]}\n",
    "# {\"scores\":[0.251988261938095,0.258233487606048,0.489778339862823]}\n",
    "# {\"scores\":[0.280087798833847,0.368331134319305,0.351581096649169]}\n",
    "\n"
   ]
  },
  {
   "cell_type": "code",
   "execution_count": 24,
   "id": "253fc975",
   "metadata": {},
   "outputs": [
    {
     "data": {
      "text/plain": [
       "54"
      ]
     },
     "execution_count": 24,
     "metadata": {},
     "output_type": "execute_result"
    }
   ],
   "source": [
    "len('s3://sagemaker-han/batch-images/inference/sample31.png')"
   ]
  },
  {
   "cell_type": "code",
   "execution_count": 128,
   "id": "41507e0c",
   "metadata": {},
   "outputs": [
    {
     "name": "stdout",
     "output_type": "stream",
     "text": [
      "Latest transform job: pytorch-inference-2022-08-21-08-18-59-697\n"
     ]
    }
   ],
   "source": [
    "print(\"Latest transform job:\", transformer.latest_transform_job.name)"
   ]
  },
  {
   "cell_type": "code",
   "execution_count": null,
   "id": "719ccee3",
   "metadata": {},
   "outputs": [],
   "source": [
    "transformer.stop_transform_job()"
   ]
  },
  {
   "cell_type": "code",
   "execution_count": 113,
   "id": "cf813c00",
   "metadata": {},
   "outputs": [
    {
     "name": "stdout",
     "output_type": "stream",
     "text": [
      "{'CreationTime': datetime.datetime(2022, 8, 21, 12, 13, 37, 860000, tzinfo=tzlocal()),\n",
      " 'DataProcessing': {'InputFilter': '$',\n",
      "                    'JoinSource': 'None',\n",
      "                    'OutputFilter': '$'},\n",
      " 'FailureReason': 'AlgorithmError: See job logs for more information',\n",
      " 'ModelName': 'pytorch-inference-2022-08-21-03-13-10-667',\n",
      " 'ResponseMetadata': {'HTTPHeaders': {'content-length': '949',\n",
      "                                      'content-type': 'application/x-amz-json-1.1',\n",
      "                                      'date': 'Sun, 21 Aug 2022 05:10:13 GMT',\n",
      "                                      'x-amzn-requestid': 'cd218913-c7fe-4e1f-9b31-2b2fa07372d4'},\n",
      "                      'HTTPStatusCode': 200,\n",
      "                      'RequestId': 'cd218913-c7fe-4e1f-9b31-2b2fa07372d4',\n",
      "                      'RetryAttempts': 0},\n",
      " 'TransformEndTime': datetime.datetime(2022, 8, 21, 12, 18, 21, 796000, tzinfo=tzlocal()),\n",
      " 'TransformInput': {'CompressionType': 'None',\n",
      "                    'ContentType': 'application/x-image',\n",
      "                    'DataSource': {'S3DataSource': {'S3DataType': 'S3Prefix',\n",
      "                                                    'S3Uri': 's3://sagemaker-han/sagemaker/batch_transform'}},\n",
      "                    'SplitType': 'None'},\n",
      " 'TransformJobArn': 'arn:aws:sagemaker:us-west-2:608095525235:transform-job/pytorch-inference-2022-08-21-03-13-37-242',\n",
      " 'TransformJobName': 'pytorch-inference-2022-08-21-03-13-37-242',\n",
      " 'TransformJobStatus': 'Failed',\n",
      " 'TransformOutput': {'AssembleWith': 'None',\n",
      "                     'KmsKeyId': '',\n",
      "                     'S3OutputPath': 's3://sagemaker-us-west-2-608095525235/pytorch-inference-2022-08-21-03-13-37-242'},\n",
      " 'TransformResources': {'InstanceCount': 1, 'InstanceType': 'ml.m5.large'},\n",
      " 'TransformStartTime': datetime.datetime(2022, 8, 21, 12, 16, 42, 175000, tzinfo=tzlocal())}\n"
     ]
    }
   ],
   "source": [
    "import pprint as pp\n",
    "\n",
    "job_name = 'pytorch-inference-2022-08-21-03-13-37-242'\n",
    "sm_cli = sagemaker_session.sagemaker_client\n",
    "job_info = sm_cli.describe_transform_job(TransformJobName=job_name)\n",
    "pp.pprint(job_info)"
   ]
  },
  {
   "cell_type": "code",
   "execution_count": 48,
   "id": "53b2cbbe",
   "metadata": {},
   "outputs": [],
   "source": [
    "tmp_model = PyTorchModel(model_data = 's3://sagemaker-us-west-2-582981179587/pytorch-inference-2022-08-23-05-57-39-711/model.tar.gz',\n",
    "                             entry_point='resnet_transform.py',\n",
    "                             source_dir = 'src',\n",
    "                             framework_version='1.12.0',\n",
    "                             py_version='py38',\n",
    "                             role = role)"
   ]
  },
  {
   "cell_type": "code",
   "execution_count": 50,
   "id": "9b2ec57f",
   "metadata": {},
   "outputs": [
    {
     "data": {
      "text/plain": [
       "<bound method Model.transformer of <sagemaker.pytorch.model.PyTorchModel object at 0x1450538e0>>"
      ]
     },
     "execution_count": 50,
     "metadata": {},
     "output_type": "execute_result"
    }
   ],
   "source": [
    "tmp_model.transformer"
   ]
  },
  {
   "cell_type": "code",
   "execution_count": 118,
   "id": "d8b1c9c3",
   "metadata": {},
   "outputs": [
    {
     "name": "stdout",
     "output_type": "stream",
     "text": [
      "{'predictions': 8}\n",
      "{'predictions': 8}\n",
      "{'predictions': 8}\n",
      "{'predictions': 8}\n",
      "{'predictions': 8}\n",
      "{'predictions': 8}\n",
      "{'predictions': 8}\n",
      "{'predictions': 8}\n",
      "{'predictions': 8}\n",
      "{'predictions': 8}\n",
      "{'predictions': 8}\n",
      "{'predictions': 8}\n",
      "{'predictions': 8}\n",
      "{'predictions': 8}\n",
      "{'predictions': 8}\n",
      "{'predictions': 8}\n",
      "{'predictions': 8}\n",
      "{'predictions': 8}\n",
      "{'predictions': 8}\n",
      "{'predictions': 8}\n",
      "{'predictions': 8}\n",
      "{'predictions': 8}\n",
      "{'predictions': 8}\n",
      "{'predictions': 8}\n",
      "{'predictions': 8}\n",
      "{'predictions': 8}\n",
      "{'predictions': 8}\n",
      "{'predictions': 8}\n",
      "{'predictions': 8}\n",
      "{'predictions': 8}\n",
      "{'predictions': 8}\n",
      "{'predictions': 8}\n",
      "{'predictions': 8}\n",
      "{'predictions': 8}\n",
      "{'predictions': 8}\n",
      "{'predictions': 8}\n",
      "{'predictions': 8}\n",
      "{'predictions': 8}\n",
      "{'predictions': 8}\n",
      "{'predictions': 8}\n",
      "{'predictions': 8}\n",
      "{'predictions': 8}\n",
      "{'predictions': 8}\n",
      "{'predictions': 8}\n",
      "{'predictions': 8}\n",
      "{'predictions': 8}\n",
      "{'predictions': 8}\n",
      "{'predictions': 8}\n",
      "{'predictions': 8}\n",
      "{'predictions': 8}\n",
      "{'predictions': 8}\n",
      "{'predictions': 8}\n",
      "{'predictions': 8}\n",
      "{'predictions': 8}\n",
      "{'predictions': 8}\n",
      "{'predictions': 8}\n",
      "{'predictions': 8}\n",
      "{'predictions': 8}\n",
      "{'predictions': 8}\n",
      "{'predictions': 8}\n",
      "{'predictions': 8}\n",
      "{'predictions': 8}\n",
      "{'predictions': 8}\n",
      "{'predictions': 8}\n",
      "{'predictions': 8}\n",
      "{'predictions': 8}\n",
      "{'predictions': 8}\n",
      "{'predictions': 8}\n",
      "{'predictions': 8}\n",
      "{'predictions': 8}\n",
      "{'predictions': 8}\n",
      "{'predictions': 8}\n",
      "{'predictions': 8}\n",
      "{'predictions': 8}\n",
      "{'predictions': 8}\n",
      "{'predictions': 8}\n",
      "{'predictions': 8}\n",
      "{'predictions': 8}\n",
      "{'predictions': 8}\n",
      "{'predictions': 8}\n",
      "{'predictions': 8}\n",
      "{'predictions': 8}\n",
      "{'predictions': 8}\n",
      "{'predictions': 8}\n",
      "{'predictions': 8}\n",
      "{'predictions': 8}\n",
      "{'predictions': 8}\n",
      "{'predictions': 8}\n",
      "{'predictions': 8}\n",
      "{'predictions': 8}\n",
      "{'predictions': 8}\n",
      "{'predictions': 8}\n",
      "{'predictions': 8}\n",
      "{'predictions': 8}\n",
      "{'predictions': 8}\n",
      "{'predictions': 8}\n",
      "{'predictions': 8}\n",
      "{'predictions': 8}\n",
      "{'predictions': 8}\n",
      "{'predictions': 8}\n"
     ]
    }
   ],
   "source": [
    "import json\n",
    "\n",
    "for f in os.listdir(local_path):\n",
    "    path = os.path.join(local_path, f)\n",
    "    with open(path, \"r\") as f:\n",
    "        pred = json.load(f)\n",
    "        print(pred)"
   ]
  },
  {
   "cell_type": "code",
   "execution_count": 57,
   "id": "a61056ec",
   "metadata": {},
   "outputs": [
    {
     "name": "stdout",
     "output_type": "stream",
     "text": [
      "<class 'bytearray'>\n"
     ]
    },
    {
     "data": {
      "image/png": "[encoded data removed]",
      "text/plain": [
       "<PIL.PngImagePlugin.PngImageFile image mode=RGB size=32x32>"
      ]
     },
     "execution_count": 57,
     "metadata": {},
     "output_type": "execute_result"
    }
   ],
   "source": [
    "with open(\"./sample1.png\", \"rb\") as image:\n",
    "  f = image.read()\n",
    "  b = bytearray(f)\n",
    "  print(type(b))\n",
    "  \n",
    "import io\n",
    "img_b = io.BytesIO(b)\n",
    "\n",
    "from PIL import Image\n",
    "Image.open(img_b)"
   ]
  },
  {
   "cell_type": "code",
   "execution_count": 58,
   "id": "19c73b44",
   "metadata": {},
   "outputs": [
    {
     "data": {
      "text/plain": [
       "2151"
      ]
     },
     "execution_count": 58,
     "metadata": {},
     "output_type": "execute_result"
    }
   ],
   "source": [
    "len(b)"
   ]
  }
 ],
 "metadata": {
  "kernelspec": {
   "display_name": "Python 3.9.10 ('aws_batch_transform-pg7SNxiG')",
   "language": "python",
   "name": "python3"
  },
  "language_info": {
   "codemirror_mode": {
    "name": "ipython",
    "version": 3
   },
   "file_extension": ".py",
   "mimetype": "text/x-python",
   "name": "python",
   "nbconvert_exporter": "python",
   "pygments_lexer": "ipython3",
   "version": "3.9.7"
  },
  "toc": {
   "base_numbering": 1,
   "nav_menu": {},
   "number_sections": true,
   "sideBar": true,
   "skip_h1_title": false,
   "title_cell": "Table of Contents",
   "title_sidebar": "Contents",
   "toc_cell": false,
   "toc_position": {},
   "toc_section_display": true,
   "toc_window_display": false
  },
  "varInspector": {
   "cols": {
    "lenName": 16,
    "lenType": 16,
    "lenVar": 40
   },
   "kernels_config": {
    "python": {
     "delete_cmd_postfix": "",
     "delete_cmd_prefix": "del ",
     "library": "var_list.py",
     "varRefreshCmd": "print(var_dic_list())"
    },
    "r": {
     "delete_cmd_postfix": ") ",
     "delete_cmd_prefix": "rm(",
     "library": "var_list.r",
     "varRefreshCmd": "cat(var_dic_list()) "
    }
   },
   "types_to_exclude": [
    "module",
    "function",
    "builtin_function_or_method",
    "instance",
    "_Feature"
   ],
   "window_display": false
  },
  "vscode": {
   "interpreter": {
    "hash": "445eadaa75e92a02935b67c0f43eae30d5f0df35a0b86dd757723720e6c70438"
   }
  }
 },
 "nbformat": 4,
 "nbformat_minor": 5
}
